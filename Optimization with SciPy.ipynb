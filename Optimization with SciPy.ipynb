{
 "cells": [
  {
   "cell_type": "markdown",
   "metadata": {},
   "source": [
    "# Optimization with SciPy\n",
    "\n",
    "Here we are going to see how to use SciPy to solve a simple minimization problem\n"
   ]
  },
  {
   "cell_type": "markdown",
   "metadata": {},
   "source": [
    "Let's define a function f(x). This is the function we want to find the minimum of."
   ]
  },
  {
   "cell_type": "code",
   "execution_count": 11,
   "metadata": {
    "collapsed": false
   },
   "outputs": [
    {
     "data": {
      "text/plain": [
       "<matplotlib.collections.PathCollection at 0x2833383e898>"
      ]
     },
     "execution_count": 11,
     "metadata": {},
     "output_type": "execute_result"
    },
    {
     "data": {
      "image/png": "[encoded data removed]",
      "text/plain": [
       "<matplotlib.figure.Figure at 0x2833374bbe0>"
      ]
     },
     "metadata": {},
     "output_type": "display_data"
    }
   ],
   "source": [
    "import scipy.optimize as sp\n",
    "import matplotlib.pyplot as plt\n",
    "%matplotlib inline\n",
    "import numpy as np\n",
    "\n",
    "x = np.arange(-3.0,3.0,0.1)\n",
    "\n",
    "def f(x):\n",
    "    return -np.exp(-(x - .7)**2)\n",
    "plt.scatter(x, f(x))"
   ]
  },
  {
   "cell_type": "markdown",
   "metadata": {},
   "source": [
    "To minimize the function, we use scipy.optimize. The minimize function here is taking two arguments: the objective function, and an initial guess."
   ]
  },
  {
   "cell_type": "code",
   "execution_count": 17,
   "metadata": {
    "collapsed": false
   },
   "outputs": [
    {
     "name": "stdout",
     "output_type": "stream",
     "text": [
      "      fun: -0.9999999999795255\n",
      " hess_inv: array([[ 0.50233452]])\n",
      "      jac: array([ -9.03010368e-06])\n",
      "  message: 'Optimization terminated successfully.'\n",
      "     nfev: 15\n",
      "      nit: 4\n",
      "     njev: 5\n",
      "   status: 0\n",
      "  success: True\n",
      "        x: array([ 0.69999548])\n"
     ]
    }
   ],
   "source": [
    "x0=0\n",
    "res= sp.minimize(f, x0)\n",
    "\n",
    "print (res)"
   ]
  },
  {
   "cell_type": "markdown",
   "metadata": {},
   "source": [
    "What do these results mean? \n",
    "\n",
    "x: the value of x for which we have a minimum\n",
    "fun: the value of the function at the minimum\n",
    "nit: the number of iterations the algorithm took to reach the minimum\n",
    "\n",
    "## Changing the initial guess\n",
    "Try changing x0 to different values and see what this does to the number of iterations needed to reach the minimum. Can it always reach the minimum?\n"
   ]
  },
  {
   "cell_type": "code",
   "execution_count": 22,
   "metadata": {
    "collapsed": false
   },
   "outputs": [
    {
     "name": "stdout",
     "output_type": "stream",
     "text": [
      "      fun: -1.0\n",
      " hess_inv: array([[ 0.50000456]])\n",
      "      jac: array([  7.45058060e-09])\n",
      "  message: 'Optimization terminated successfully.'\n",
      "     nfev: 27\n",
      "      nit: 4\n",
      "     njev: 9\n",
      "   status: 0\n",
      "  success: True\n",
      "        x: array([ 0.69999999])\n"
     ]
    },
    {
     "data": {
      "text/plain": [
       "<matplotlib.collections.PathCollection at 0x283338f9400>"
      ]
     },
     "execution_count": 22,
     "metadata": {},
     "output_type": "execute_result"
    },
    {
     "data": {
      "image/png": "[encoded data removed]",
      "text/plain": [
       "<matplotlib.figure.Figure at 0x283339720b8>"
      ]
     },
     "metadata": {},
     "output_type": "display_data"
    }
   ],
   "source": [
    "x0=-1\n",
    "res= sp.minimize(f, x0)\n",
    "\n",
    "print (res)\n",
    "plt.scatter(x, f(x))\n",
    "plt.scatter(res['x'], f(res['x']), color='red')"
   ]
  },
  {
   "cell_type": "markdown",
   "metadata": {},
   "source": [
    "## Setting bounds\n",
    "Sometimes it will not be possible to reach the minimum of the function due to real-world constraints.\n",
    "\n",
    "Here we will specify that the solution must lie between 0 and 0.5.\n"
   ]
  },
  {
   "cell_type": "code",
   "execution_count": 24,
   "metadata": {
    "collapsed": false
   },
   "outputs": [
    {
     "name": "stdout",
     "output_type": "stream",
     "text": [
      "      fun: array([-0.96078944])\n",
      " hess_inv: <1x1 LbfgsInvHessProduct with dtype=float64>\n",
      "      jac: array([-0.38431577])\n",
      "  message: b'CONVERGENCE: NORM_OF_PROJECTED_GRADIENT_<=_PGTOL'\n",
      "     nfev: 4\n",
      "      nit: 1\n",
      "   status: 0\n",
      "  success: True\n",
      "        x: array([ 0.5])\n"
     ]
    },
    {
     "data": {
      "text/plain": [
       "<matplotlib.collections.PathCollection at 0x28334a82dd8>"
      ]
     },
     "execution_count": 24,
     "metadata": {},
     "output_type": "execute_result"
    },
    {
     "data": {
      "image/png": "[encoded data removed]",
      "text/plain": [
       "<matplotlib.figure.Figure at 0x28333a16208>"
      ]
     },
     "metadata": {},
     "output_type": "display_data"
    }
   ],
   "source": [
    "bnds=[(0,0.5)]\n",
    "\n",
    "res= sp.minimize(f, x0, bounds=bnds)\n",
    "\n",
    "print (res)\n",
    "plt.scatter(x, f(x))\n",
    "plt.scatter(res['x'], f(res['x']), color='red')"
   ]
  },
  {
   "cell_type": "markdown",
   "metadata": {},
   "source": [
    "The algorithm found the minimum within the bounds (0.5). Why was it able to do this in only one iteration?"
   ]
  }
 ],
 "metadata": {
  "anaconda-cloud": {},
  "kernelspec": {
   "display_name": "Python [Root]",
   "language": "python",
   "name": "Python [Root]"
  },
  "language_info": {
   "codemirror_mode": {
    "name": "ipython",
    "version": 3
   },
   "file_extension": ".py",
   "mimetype": "text/x-python",
   "name": "python",
   "nbconvert_exporter": "python",
   "pygments_lexer": "ipython3",
   "version": "3.5.2"
  }
 },
 "nbformat": 4,
 "nbformat_minor": 0
}
